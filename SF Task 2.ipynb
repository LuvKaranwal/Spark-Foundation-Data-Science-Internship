{
 "cells": [
  {
   "cell_type": "markdown",
   "metadata": {},
   "source": [
    "# Spark Foundation \n",
    "\n",
    "## Task 2 :) Prediction of scores of a student based on the no, of hours he/she invested."
   ]
  },
  {
   "cell_type": "markdown",
   "metadata": {},
   "source": [
    "## Loading Libraries"
   ]
  },
  {
   "cell_type": "code",
   "execution_count": 1,
   "metadata": {},
   "outputs": [],
   "source": [
    "import pandas as pd\n",
    "import os\n",
    "from sklearn.linear_model import LinearRegression\n",
    "from sklearn.model_selection import train_test_split\n",
    "from sklearn.metrics import mean_absolute_error\n",
    "from sklearn.ensemble import RandomForestRegressor\n",
    "from sklearn.tree import DecisionTreeRegressor\n",
    "import xgboost as xgb\n",
    "from sklearn.svm import SVR\n",
    "from sklearn.linear_model import BayesianRidge\n",
    "import numpy as np\n",
    "from sklearn.ensemble import GradientBoostingRegressor\n",
    "from sklearn.neighbors import KNeighborsRegressor\n",
    "from sklearn.linear_model import Lasso\n",
    "import matplotlib.pyplot as plt\n",
    "import seaborn as sns"
   ]
  },
  {
   "cell_type": "code",
   "execution_count": 2,
   "metadata": {},
   "outputs": [],
   "source": [
    "os.getcwd()\n",
    "os.chdir(\"C:\\\\Users\\\\Love Karnval\\\\Desktop\\\\sparks foundation internship\\\\task 2\")"
   ]
  },
  {
   "cell_type": "code",
   "execution_count": 3,
   "metadata": {},
   "outputs": [
    {
     "name": "stdout",
     "output_type": "stream",
     "text": [
      "(25, 1) (25,)\n"
     ]
    },
    {
     "data": {
      "text/html": [
       "<div>\n",
       "<style scoped>\n",
       "    .dataframe tbody tr th:only-of-type {\n",
       "        vertical-align: middle;\n",
       "    }\n",
       "\n",
       "    .dataframe tbody tr th {\n",
       "        vertical-align: top;\n",
       "    }\n",
       "\n",
       "    .dataframe thead th {\n",
       "        text-align: right;\n",
       "    }\n",
       "</style>\n",
       "<table border=\"1\" class=\"dataframe\">\n",
       "  <thead>\n",
       "    <tr style=\"text-align: right;\">\n",
       "      <th></th>\n",
       "      <th>Hours</th>\n",
       "      <th>Scores</th>\n",
       "    </tr>\n",
       "  </thead>\n",
       "  <tbody>\n",
       "    <tr>\n",
       "      <th>0</th>\n",
       "      <td>2.5</td>\n",
       "      <td>21</td>\n",
       "    </tr>\n",
       "    <tr>\n",
       "      <th>1</th>\n",
       "      <td>5.1</td>\n",
       "      <td>47</td>\n",
       "    </tr>\n",
       "    <tr>\n",
       "      <th>2</th>\n",
       "      <td>3.2</td>\n",
       "      <td>27</td>\n",
       "    </tr>\n",
       "    <tr>\n",
       "      <th>3</th>\n",
       "      <td>8.5</td>\n",
       "      <td>75</td>\n",
       "    </tr>\n",
       "    <tr>\n",
       "      <th>4</th>\n",
       "      <td>3.5</td>\n",
       "      <td>30</td>\n",
       "    </tr>\n",
       "    <tr>\n",
       "      <th>5</th>\n",
       "      <td>1.5</td>\n",
       "      <td>20</td>\n",
       "    </tr>\n",
       "    <tr>\n",
       "      <th>6</th>\n",
       "      <td>9.2</td>\n",
       "      <td>88</td>\n",
       "    </tr>\n",
       "    <tr>\n",
       "      <th>7</th>\n",
       "      <td>5.5</td>\n",
       "      <td>60</td>\n",
       "    </tr>\n",
       "    <tr>\n",
       "      <th>8</th>\n",
       "      <td>8.3</td>\n",
       "      <td>81</td>\n",
       "    </tr>\n",
       "    <tr>\n",
       "      <th>9</th>\n",
       "      <td>2.7</td>\n",
       "      <td>25</td>\n",
       "    </tr>\n",
       "  </tbody>\n",
       "</table>\n",
       "</div>"
      ],
      "text/plain": [
       "   Hours  Scores\n",
       "0    2.5      21\n",
       "1    5.1      47\n",
       "2    3.2      27\n",
       "3    8.5      75\n",
       "4    3.5      30\n",
       "5    1.5      20\n",
       "6    9.2      88\n",
       "7    5.5      60\n",
       "8    8.3      81\n",
       "9    2.7      25"
      ]
     },
     "execution_count": 3,
     "metadata": {},
     "output_type": "execute_result"
    }
   ],
   "source": [
    "dataframe = pd.read_csv(\"student_time_spent - student_scores.csv\")\n",
    "data_values = dataframe.values\n",
    "X, y = data_values[:, :-1], data_values[:, -1]\n",
    "# summarize the shape of the dataset\n",
    "print(X.shape, y.shape)\n",
    "dataframe.head(10)"
   ]
  },
  {
   "cell_type": "markdown",
   "metadata": {},
   "source": [
    "## Correlation Analysis between the two variables"
   ]
  },
  {
   "cell_type": "code",
   "execution_count": 4,
   "metadata": {},
   "outputs": [
    {
     "data": {
      "text/plain": [
       "<matplotlib.axes._subplots.AxesSubplot at 0x233f9ac1188>"
      ]
     },
     "execution_count": 4,
     "metadata": {},
     "output_type": "execute_result"
    },
    {
     "data": {
      "image/png": "[encoded data removed]",
      "text/plain": [
       "<Figure size 360x360 with 2 Axes>"
      ]
     },
     "metadata": {
      "needs_background": "light"
     },
     "output_type": "display_data"
    }
   ],
   "source": [
    "# ### Correlation Analysis : Only for continuous numeric variables.\n",
    "#   # Correlation plot.NOTE:cp is only for continuous numeric variables.\n",
    "#   # Extreme Blue:highly positively correlated.\n",
    "#   # Extreme Red :highly negatively correlated.\n",
    "colnames=['Hours', 'Scores']\n",
    "df_corr = dataframe.loc[:,colnames]\n",
    "# print(df_corr.shape)\n",
    "\n",
    "corr_mat=dataframe.corr(method='pearson')\n",
    "plt.figure(figsize=(5,5))\n",
    "sns.heatmap(corr_mat,vmax=1,square=True,annot=True,cmap='cubehelix')\n",
    "\n",
    "# brp = brp.drop(['workingday','atemp'],axis=1)\n",
    "# print(brp.shape)"
   ]
  },
  {
   "cell_type": "markdown",
   "metadata": {},
   "source": [
    "## Splitting data into train and testing datasets"
   ]
  },
  {
   "cell_type": "code",
   "execution_count": 5,
   "metadata": {},
   "outputs": [
    {
     "name": "stdout",
     "output_type": "stream",
     "text": [
      "(22, 1) (3, 1) (22,) (3,)\n"
     ]
    }
   ],
   "source": [
    "# split into train and test sets\n",
    "X_train, X_test, y_train, y_test = train_test_split(X, y, test_size=0.12, random_state=47)\n",
    "# summarize the shape of the train and test sets\n",
    "print(X_train.shape, X_test.shape, y_train.shape, y_test.shape)"
   ]
  },
  {
   "cell_type": "markdown",
   "metadata": {},
   "source": [
    "# Regression Models"
   ]
  },
  {
   "cell_type": "markdown",
   "metadata": {},
   "source": [
    "## 1). Linear Regression"
   ]
  },
  {
   "cell_type": "code",
   "execution_count": 6,
   "metadata": {},
   "outputs": [
    {
     "name": "stdout",
     "output_type": "stream",
     "text": [
      "MAE For Linear Regression: 4.35\n",
      "Predicted Score 92.39\n"
     ]
    }
   ],
   "source": [
    "model = LinearRegression()\n",
    "model.fit(X_train, y_train)\n",
    "yhat = model.predict(X_test)\n",
    "mae = mean_absolute_error(y_test, yhat)\n",
    "print('MAE For Linear Regression: %.2f' % mae)\n",
    "\n",
    "test = np.array([[9.25]])\n",
    "y = model.predict(test)\n",
    "print('Predicted Score',round(y[0],2))\n",
    "\n",
    "final_table = pd.DataFrame(columns=['Model Name','Mae Score', 'Predicted Score for 9.25 hrs'])\n",
    "\n",
    "a=0\n",
    "final_table.loc[a] = ['Linear Regression Model'] + [round(mae,2)] + [round(y[0],2)]\n"
   ]
  },
  {
   "cell_type": "markdown",
   "metadata": {},
   "source": [
    "## 2). Random Forest Regressor"
   ]
  },
  {
   "cell_type": "code",
   "execution_count": 7,
   "metadata": {},
   "outputs": [
    {
     "name": "stdout",
     "output_type": "stream",
     "text": [
      "MAE For Random Forest Regression: 2.477\n",
      "Predicted Score 88.9\n"
     ]
    }
   ],
   "source": [
    "model = RandomForestRegressor(random_state=1)\n",
    "model.fit(X_train, y_train)\n",
    "yhat = model.predict(X_test)\n",
    "mae = mean_absolute_error(y_test, yhat)\n",
    "print('MAE For Random Forest Regression: %.3f' % mae)\n",
    "\n",
    "test = np.array([[9.25]])\n",
    "y = model.predict(test)\n",
    "print('Predicted Score',round(y[0],2))\n",
    "\n",
    "a+=1\n",
    "final_table.loc[a] = ['Random Forest Regression'] + [round(mae,2)] + [round(y[0],2)]"
   ]
  },
  {
   "cell_type": "markdown",
   "metadata": {},
   "source": [
    "## 3). Decision Tree Regressor"
   ]
  },
  {
   "cell_type": "code",
   "execution_count": 8,
   "metadata": {},
   "outputs": [
    {
     "name": "stdout",
     "output_type": "stream",
     "text": [
      "MAE For Decision Tree Regression: 5.000\n",
      "Predicted Score 88.0\n"
     ]
    }
   ],
   "source": [
    "model = DecisionTreeRegressor(random_state=1)\n",
    "model.fit(X_train, y_train)\n",
    "yhat = model.predict(X_test)\n",
    "mae = mean_absolute_error(y_test, yhat)\n",
    "print('MAE For Decision Tree Regression: %.3f' % mae)\n",
    "\n",
    "test = np.array([[9.25]])\n",
    "y = model.predict(test)\n",
    "print('Predicted Score',round(y[0],2))\n",
    "\n",
    "a+=1\n",
    "final_table.loc[a] = ['Decision Tree Regression'] + [round(mae,2)] + [round(y[0],2)]"
   ]
  },
  {
   "cell_type": "markdown",
   "metadata": {},
   "source": [
    "## 4). GB Regressor"
   ]
  },
  {
   "cell_type": "code",
   "execution_count": 9,
   "metadata": {},
   "outputs": [
    {
     "name": "stdout",
     "output_type": "stream",
     "text": [
      "MAE For Support Vector Regression: 4.871\n",
      "Predicted Score 88.08\n"
     ]
    }
   ],
   "source": [
    "model =  GradientBoostingRegressor(random_state=1)\n",
    "model.fit(X_train, y_train)\n",
    "yhat = model.predict(X_test)\n",
    "mae = mean_absolute_error(y_test, yhat)\n",
    "print('MAE For Support Vector Regression: %.3f' % mae)\n",
    "\n",
    "test = np.array([[9.25]])\n",
    "y = model.predict(test)\n",
    "print('Predicted Score',round(y[0],2))\n",
    "\n",
    "a+=1\n",
    "final_table.loc[a] = ['GB Regression Model'] + [round(mae,2)] + [round(y[0],2)]"
   ]
  },
  {
   "cell_type": "markdown",
   "metadata": {},
   "source": [
    "## 5). XGB Regressor"
   ]
  },
  {
   "cell_type": "code",
   "execution_count": 10,
   "metadata": {},
   "outputs": [
    {
     "name": "stdout",
     "output_type": "stream",
     "text": [
      "MAE For XGB Model: 4.927\n",
      "Predicted Score 85.34\n"
     ]
    }
   ],
   "source": [
    "model = regressor = xgb.XGBRegressor(\n",
    "    n_estimators=12,\n",
    "    reg_lambda=1,\n",
    "    gamma=0,\n",
    "    max_depth=3\n",
    ")\n",
    "model.fit(X_train, y_train)\n",
    "yhat = model.predict(X_test)\n",
    "mae = mean_absolute_error(y_test, yhat)\n",
    "print('MAE For XGB Model: %.3f' % mae)\n",
    "\n",
    "test = np.array([[9.25]])\n",
    "y = model.predict(test)\n",
    "print('Predicted Score',round(y[0],2))\n",
    "\n",
    "a+=1\n",
    "final_table.loc[a] = ['XGB Regression Model'] + [round(mae,2)] + [round(y[0],2)]"
   ]
  },
  {
   "cell_type": "markdown",
   "metadata": {},
   "source": [
    "## 6). Bayesian Ridge Regression"
   ]
  },
  {
   "cell_type": "code",
   "execution_count": 11,
   "metadata": {},
   "outputs": [
    {
     "name": "stdout",
     "output_type": "stream",
     "text": [
      "MAE For Bayesian Ridge Regression: 4.358\n",
      "Predicted Score 92.29\n"
     ]
    }
   ],
   "source": [
    "model = BayesianRidge()\n",
    "model.fit(X_train, y_train)\n",
    "yhat = model.predict(X_test)\n",
    "mae = mean_absolute_error(y_test, yhat)\n",
    "print('MAE For Bayesian Ridge Regression: %.3f' % mae)\n",
    "\n",
    "test = np.array([[9.25]])\n",
    "y = model.predict(test)\n",
    "print('Predicted Score',round(y[0],2))\n",
    "\n",
    "a+=1\n",
    "final_table.loc[a] = ['Bayesian Ridge Regression'] + [round(mae,2)] + [round(y[0],2)]"
   ]
  },
  {
   "cell_type": "markdown",
   "metadata": {},
   "source": [
    "## 7). Support Vector Regression"
   ]
  },
  {
   "cell_type": "code",
   "execution_count": 12,
   "metadata": {},
   "outputs": [
    {
     "name": "stdout",
     "output_type": "stream",
     "text": [
      "MAE For Support Vector Regression: 20.930\n",
      "Predicted Score 58.7\n"
     ]
    }
   ],
   "source": [
    "model =  SVR(C=1.0, epsilon=0.2)\n",
    "model.fit(X_train, y_train)\n",
    "yhat = model.predict(X_test)\n",
    "mae = mean_absolute_error(y_test, yhat)\n",
    "print('MAE For Support Vector Regression: %.3f' % mae)\n",
    "\n",
    "test = np.array([[9.25]])\n",
    "y = model.predict(test)\n",
    "print('Predicted Score',round(y[0],2))\n",
    "\n",
    "a+=1\n",
    "final_table.loc[a] = ['Support Vector Regression'] + [round(mae,2)] + [round(y[0],2)]"
   ]
  },
  {
   "cell_type": "markdown",
   "metadata": {},
   "source": [
    "## 8). KNN Regression Model"
   ]
  },
  {
   "cell_type": "code",
   "execution_count": 13,
   "metadata": {},
   "outputs": [
    {
     "name": "stdout",
     "output_type": "stream",
     "text": [
      "MAE For Support Vector Regression: 0.667\n",
      "Predicted Score 91.5\n"
     ]
    }
   ],
   "source": [
    "model = KNeighborsRegressor(n_neighbors = 2)\n",
    "model.fit(X_train, y_train)\n",
    "yhat = model.predict(X_test)\n",
    "mae = mean_absolute_error(y_test, yhat)\n",
    "print('MAE For Support Vector Regression: %.3f' % mae)\n",
    "\n",
    "test = np.array([[9.25]])\n",
    "y = model.predict(test)\n",
    "print('Predicted Score',round(y[0],2))\n",
    "\n",
    "a+=1\n",
    "final_table.loc[a] = ['KNN Regression'] + [round(mae,2)] + [round(y[0],2)]"
   ]
  },
  {
   "cell_type": "markdown",
   "metadata": {},
   "source": [
    "## Displaying the Final dataframe of models"
   ]
  },
  {
   "cell_type": "code",
   "execution_count": 14,
   "metadata": {},
   "outputs": [
    {
     "data": {
      "text/html": [
       "<div>\n",
       "<style scoped>\n",
       "    .dataframe tbody tr th:only-of-type {\n",
       "        vertical-align: middle;\n",
       "    }\n",
       "\n",
       "    .dataframe tbody tr th {\n",
       "        vertical-align: top;\n",
       "    }\n",
       "\n",
       "    .dataframe thead th {\n",
       "        text-align: right;\n",
       "    }\n",
       "</style>\n",
       "<table border=\"1\" class=\"dataframe\">\n",
       "  <thead>\n",
       "    <tr style=\"text-align: right;\">\n",
       "      <th></th>\n",
       "      <th>Model Name</th>\n",
       "      <th>Mae Score</th>\n",
       "      <th>Predicted Score for 9.25 hrs</th>\n",
       "    </tr>\n",
       "  </thead>\n",
       "  <tbody>\n",
       "    <tr>\n",
       "      <th>7</th>\n",
       "      <td>KNN Regression</td>\n",
       "      <td>0.67</td>\n",
       "      <td>91.500000</td>\n",
       "    </tr>\n",
       "    <tr>\n",
       "      <th>1</th>\n",
       "      <td>Random Forest Regression</td>\n",
       "      <td>2.48</td>\n",
       "      <td>88.900000</td>\n",
       "    </tr>\n",
       "    <tr>\n",
       "      <th>0</th>\n",
       "      <td>Linear Regression Model</td>\n",
       "      <td>4.35</td>\n",
       "      <td>92.390000</td>\n",
       "    </tr>\n",
       "    <tr>\n",
       "      <th>5</th>\n",
       "      <td>Bayesian Ridge Regression</td>\n",
       "      <td>4.36</td>\n",
       "      <td>92.290000</td>\n",
       "    </tr>\n",
       "    <tr>\n",
       "      <th>3</th>\n",
       "      <td>GB Regression Model</td>\n",
       "      <td>4.87</td>\n",
       "      <td>88.080000</td>\n",
       "    </tr>\n",
       "    <tr>\n",
       "      <th>4</th>\n",
       "      <td>XGB Regression Model</td>\n",
       "      <td>4.93</td>\n",
       "      <td>85.339996</td>\n",
       "    </tr>\n",
       "    <tr>\n",
       "      <th>2</th>\n",
       "      <td>Decision Tree Regression</td>\n",
       "      <td>5.00</td>\n",
       "      <td>88.000000</td>\n",
       "    </tr>\n",
       "    <tr>\n",
       "      <th>6</th>\n",
       "      <td>Support Vector Regression</td>\n",
       "      <td>20.93</td>\n",
       "      <td>58.700000</td>\n",
       "    </tr>\n",
       "  </tbody>\n",
       "</table>\n",
       "</div>"
      ],
      "text/plain": [
       "                  Model Name  Mae Score  Predicted Score for 9.25 hrs\n",
       "7             KNN Regression       0.67                     91.500000\n",
       "1   Random Forest Regression       2.48                     88.900000\n",
       "0    Linear Regression Model       4.35                     92.390000\n",
       "5  Bayesian Ridge Regression       4.36                     92.290000\n",
       "3        GB Regression Model       4.87                     88.080000\n",
       "4       XGB Regression Model       4.93                     85.339996\n",
       "2   Decision Tree Regression       5.00                     88.000000\n",
       "6  Support Vector Regression      20.93                     58.700000"
      ]
     },
     "execution_count": 14,
     "metadata": {},
     "output_type": "execute_result"
    }
   ],
   "source": [
    "final_table.sort_values(\"Mae Score\", axis = 0, ascending = True, \n",
    "                 inplace = True, na_position ='last') \n",
    "final_table"
   ]
  },
  {
   "cell_type": "markdown",
   "metadata": {},
   "source": [
    "## Code for deciding the optimum test size to predict the most efficient scores by comparing the mae scores of most efficient models in that test size \"x\""
   ]
  },
  {
   "cell_type": "code",
   "execution_count": 15,
   "metadata": {},
   "outputs": [
    {
     "data": {
      "text/plain": [
       "'\\nfrom math import sqrt\\nff_table = pd.DataFrame(columns=[\\'test size\\',\\'mae score\\',\\'model name\\'])\\nfff_table = pd.DataFrame(columns=[\\'random state\\', \\'test size\\',\\'mae score\\',\\'model name\\'])\\nb=0\\nx=0.10\\nrs= 1\\nq=0\\nwhile rs <=50:\\n    x=0.10\\n    while x <= 0.66:\\n        dataframe = pd.read_csv(\"student_time_spent - student_scores.csv\")\\n        data_values = dataframe.values\\n        X, y = data_values[:, :-1], data_values[:, -1]\\n        X_train, X_test, y_train, y_test = train_test_split(X, y, test_size=round(x,2), random_state=rs)\\n        model = LinearRegression()\\n        model.fit(X_train, y_train) \\n        yhat = model.predict(X_test)\\n        mae = mean_absolute_error(y_test, yhat)\\n        test = np.array([[9.25]])\\n        y = model.predict(test)\\n        final_table = pd.DataFrame(columns=[\\'Model Name\\',\\'Mae Score\\', \\'Predicted Score for 9.25 hrs\\'])\\n        a=0\\n        final_table.loc[a] = [\\'Linear Regression Model\\'] + [round(mae,2)] + [round(y[0],2)]\\n\\n        model = RandomForestRegressor(random_state=1, n_estimators=32)\\n        model.fit(X_train, y_train)\\n        yhat = model.predict(X_test)\\n        mae = mean_absolute_error(y_test, yhat)\\n        y = model.predict(test)\\n        a+=1\\n        final_table.loc[a] = [\\'Random Forest Regression\\'] + [round(mae,2)] + [round(y[0],2)]\\n\\n        model = DecisionTreeRegressor(random_state=1)\\n        model.fit(X_train, y_train)\\n        yhat = model.predict(X_test)\\n        mae = mean_absolute_error(y_test, yhat)\\n        y = model.predict(test)\\n        a+=1\\n        final_table.loc[a] = [\\'Decision Tree Regression\\'] + [round(mae,2)] + [round(y[0],2)]\\n\\n        model =  GradientBoostingRegressor(random_state=1)\\n        model.fit(X_train, y_train)\\n        yhat = model.predict(X_test)\\n        mae = mean_absolute_error(y_test, yhat)\\n        y = model.predict(test)\\n        a+=1\\n        final_table.loc[a] = [\\'GB Regression Model\\'] + [round(mae,2)] + [round(y[0],2)]\\n\\n        model = regressor = xgb.XGBRegressor(\\n        n_estimators=100,\\n        reg_lambda=1,\\n        gamma=0,\\n        max_depth=4\\n        )\\n        model.fit(X_train, y_train)\\n        yhat = model.predict(X_test)\\n        mae = mean_absolute_error(y_test, yhat)\\n        y = model.predict(test)\\n        a+=1\\n        final_table.loc[a] = [\\'XGB Regression Model\\'] + [round(mae,2)] + [round(y[0],2)]\\n\\n        model = BayesianRidge()\\n        model.fit(X_train, y_train)\\n        yhat = model.predict(X_test)\\n        mae = mean_absolute_error(y_test, yhat)\\n        y = model.predict(test)\\n        a+=1\\n        final_table.loc[a] = [\\'Bayesian Ridge Regression\\'] + [round(mae,2)] + [round(y[0],2)]\\n\\n        model =  SVR(C=1.0, epsilon=0.2)\\n        model.fit(X_train, y_train)\\n        yhat = model.predict(X_test)\\n        mae = mean_absolute_error(y_test, yhat)\\n        y = model.predict(test)\\n        a+=1\\n        final_table.loc[a] = [\\'Support Vector Regression\\'] + [round(mae,2)] + [round(y[0],2)]\\n\\n        model = KNeighborsRegressor(n_neighbors = 2)\\n        model.fit(X_train, y_train)\\n        yhat = model.predict(X_test)\\n        mae = mean_absolute_error(y_test, yhat)\\n        y = model.predict(test)\\n        a+=1\\n        final_table.loc[a] = [\\'KNN Regression\\'] + [round(mae,2)] + [round(y[0],2)]\\n        final_table.sort_values(\"Mae Score\", axis = 0, ascending = True, \\n                     inplace = True, na_position =\\'last\\') \\n        ff_table.loc[b] = [x] + [final_table.iloc[0,1]] + [final_table.iloc[0,0]]\\n        b += 1\\n        ff_table.sort_values(\"mae score\", axis = 0, ascending = True, \\n                         inplace = True, na_position =\\'last\\')    \\n        print(rs,\" \",round(x,2),\" \",ff_table.iloc[0,1],\" \",ff_table.iloc[0,2])\\n        x+=0.01\\n    rs+=1\\nfff_table.sort_values(\"mae score\", axis = 0, ascending = True, \\n                     inplace = True, na_position =\\'last\\') \\nfff_table.head(20)        \\n\\n'"
      ]
     },
     "execution_count": 15,
     "metadata": {},
     "output_type": "execute_result"
    }
   ],
   "source": [
    "## This code can almost take 15-20 minutes to check for the most optimum test size and the random state \n",
    "## to fit the model while efficiently decreasing the mae value as it takes the best in every iteration.\n",
    "\n",
    "\"\"\"\n",
    "from math import sqrt\n",
    "ff_table = pd.DataFrame(columns=['test size','mae score','model name'])\n",
    "fff_table = pd.DataFrame(columns=['random state', 'test size','mae score','model name'])\n",
    "b=0\n",
    "x=0.10\n",
    "rs= 1\n",
    "q=0\n",
    "while rs <=50:\n",
    "    x=0.10\n",
    "    while x <= 0.66:\n",
    "        dataframe = pd.read_csv(\"student_time_spent - student_scores.csv\")\n",
    "        data_values = dataframe.values\n",
    "        X, y = data_values[:, :-1], data_values[:, -1]\n",
    "        X_train, X_test, y_train, y_test = train_test_split(X, y, test_size=round(x,2), random_state=rs)\n",
    "        model = LinearRegression()\n",
    "        model.fit(X_train, y_train) \n",
    "        yhat = model.predict(X_test)\n",
    "        mae = mean_absolute_error(y_test, yhat)\n",
    "        test = np.array([[9.25]])\n",
    "        y = model.predict(test)\n",
    "        final_table = pd.DataFrame(columns=['Model Name','Mae Score', 'Predicted Score for 9.25 hrs'])\n",
    "        a=0\n",
    "        final_table.loc[a] = ['Linear Regression Model'] + [round(mae,2)] + [round(y[0],2)]\n",
    "\n",
    "        model = RandomForestRegressor(random_state=1, n_estimators=32)\n",
    "        model.fit(X_train, y_train)\n",
    "        yhat = model.predict(X_test)\n",
    "        mae = mean_absolute_error(y_test, yhat)\n",
    "        y = model.predict(test)\n",
    "        a+=1\n",
    "        final_table.loc[a] = ['Random Forest Regression'] + [round(mae,2)] + [round(y[0],2)]\n",
    "\n",
    "        model = DecisionTreeRegressor(random_state=1)\n",
    "        model.fit(X_train, y_train)\n",
    "        yhat = model.predict(X_test)\n",
    "        mae = mean_absolute_error(y_test, yhat)\n",
    "        y = model.predict(test)\n",
    "        a+=1\n",
    "        final_table.loc[a] = ['Decision Tree Regression'] + [round(mae,2)] + [round(y[0],2)]\n",
    "\n",
    "        model =  GradientBoostingRegressor(random_state=1)\n",
    "        model.fit(X_train, y_train)\n",
    "        yhat = model.predict(X_test)\n",
    "        mae = mean_absolute_error(y_test, yhat)\n",
    "        y = model.predict(test)\n",
    "        a+=1\n",
    "        final_table.loc[a] = ['GB Regression Model'] + [round(mae,2)] + [round(y[0],2)]\n",
    "\n",
    "        model = regressor = xgb.XGBRegressor(\n",
    "        n_estimators=100,\n",
    "        reg_lambda=1,\n",
    "        gamma=0,\n",
    "        max_depth=4\n",
    "        )\n",
    "        model.fit(X_train, y_train)\n",
    "        yhat = model.predict(X_test)\n",
    "        mae = mean_absolute_error(y_test, yhat)\n",
    "        y = model.predict(test)\n",
    "        a+=1\n",
    "        final_table.loc[a] = ['XGB Regression Model'] + [round(mae,2)] + [round(y[0],2)]\n",
    "\n",
    "        model = BayesianRidge()\n",
    "        model.fit(X_train, y_train)\n",
    "        yhat = model.predict(X_test)\n",
    "        mae = mean_absolute_error(y_test, yhat)\n",
    "        y = model.predict(test)\n",
    "        a+=1\n",
    "        final_table.loc[a] = ['Bayesian Ridge Regression'] + [round(mae,2)] + [round(y[0],2)]\n",
    "\n",
    "        model =  SVR(C=1.0, epsilon=0.2)\n",
    "        model.fit(X_train, y_train)\n",
    "        yhat = model.predict(X_test)\n",
    "        mae = mean_absolute_error(y_test, yhat)\n",
    "        y = model.predict(test)\n",
    "        a+=1\n",
    "        final_table.loc[a] = ['Support Vector Regression'] + [round(mae,2)] + [round(y[0],2)]\n",
    "\n",
    "        model = KNeighborsRegressor(n_neighbors = 2)\n",
    "        model.fit(X_train, y_train)\n",
    "        yhat = model.predict(X_test)\n",
    "        mae = mean_absolute_error(y_test, yhat)\n",
    "        y = model.predict(test)\n",
    "        a+=1\n",
    "        final_table.loc[a] = ['KNN Regression'] + [round(mae,2)] + [round(y[0],2)]\n",
    "        final_table.sort_values(\"Mae Score\", axis = 0, ascending = True, \n",
    "                     inplace = True, na_position ='last') \n",
    "        ff_table.loc[b] = [x] + [final_table.iloc[0,1]] + [final_table.iloc[0,0]]\n",
    "        b += 1\n",
    "        ff_table.sort_values(\"mae score\", axis = 0, ascending = True, \n",
    "                         inplace = True, na_position ='last')    \n",
    "        print(rs,\" \",round(x,2),\" \",ff_table.iloc[0,1],\" \",ff_table.iloc[0,2])\n",
    "        x+=0.01\n",
    "    rs+=1\n",
    "fff_table.sort_values(\"mae score\", axis = 0, ascending = True, \n",
    "                     inplace = True, na_position ='last') \n",
    "fff_table.head(20)        \n",
    "\n",
    "\"\"\""
   ]
  },
  {
   "cell_type": "markdown",
   "metadata": {},
   "source": [
    "## After Running the above code we can clearly see that that the most optipum value of mae is as follows:\n",
    "\n",
    "### 1)Test Size           =   0.12\n",
    "### 2)Random State  =   47\n",
    "### 3)Mae value         =   0.67\n"
   ]
  },
  {
   "cell_type": "markdown",
   "metadata": {},
   "source": [
    "# Final Model (KNN Regressor)"
   ]
  },
  {
   "cell_type": "code",
   "execution_count": 16,
   "metadata": {},
   "outputs": [
    {
     "name": "stdout",
     "output_type": "stream",
     "text": [
      "MAE For Support Vector Regression: 0.667\n",
      "Predicted Score 91.5\n"
     ]
    }
   ],
   "source": [
    "model = KNeighborsRegressor(n_neighbors = 2)\n",
    "model.fit(X_train, y_train)\n",
    "yhat = model.predict(X_test)\n",
    "mae = mean_absolute_error(y_test, yhat)\n",
    "print('MAE For Support Vector Regression: %.3f' % mae)\n",
    "\n",
    "test = np.array([[9.25]])\n",
    "y = model.predict(test)\n",
    "print('Predicted Score',round(y[0],2))\n",
    "\n",
    "a+=1\n",
    "final_table.loc[a] = ['KNN Regression'] + [round(mae,2)] + [round(y[0],2)]"
   ]
  }
 ],
 "metadata": {
  "kernelspec": {
   "display_name": "Python 3",
   "language": "python",
   "name": "python3"
  },
  "language_info": {
   "codemirror_mode": {
    "name": "ipython",
    "version": 3
   },
   "file_extension": ".py",
   "mimetype": "text/x-python",
   "name": "python",
   "nbconvert_exporter": "python",
   "pygments_lexer": "ipython3",
   "version": "3.7.6"
  }
 },
 "nbformat": 4,
 "nbformat_minor": 4
}
